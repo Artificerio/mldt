{
 "cells": [
  {
   "cell_type": "code",
   "execution_count": 12,
   "metadata": {},
   "outputs": [
    {
     "data": {
      "text/html": [
       "<div>\n",
       "<style scoped>\n",
       "    .dataframe tbody tr th:only-of-type {\n",
       "        vertical-align: middle;\n",
       "    }\n",
       "\n",
       "    .dataframe tbody tr th {\n",
       "        vertical-align: top;\n",
       "    }\n",
       "\n",
       "    .dataframe thead th {\n",
       "        text-align: right;\n",
       "    }\n",
       "</style>\n",
       "<table border=\"1\" class=\"dataframe\">\n",
       "  <thead>\n",
       "    <tr style=\"text-align: right;\">\n",
       "      <th></th>\n",
       "      <th>Sex</th>\n",
       "      <th>Length</th>\n",
       "      <th>Diameter</th>\n",
       "      <th>Height</th>\n",
       "      <th>...</th>\n",
       "      <th>Shucked weight</th>\n",
       "      <th>Viscera weight</th>\n",
       "      <th>Shell weight</th>\n",
       "      <th>Rings</th>\n",
       "    </tr>\n",
       "  </thead>\n",
       "  <tbody>\n",
       "    <tr>\n",
       "      <th>0</th>\n",
       "      <td>M</td>\n",
       "      <td>0.455</td>\n",
       "      <td>0.365</td>\n",
       "      <td>0.095</td>\n",
       "      <td>...</td>\n",
       "      <td>0.2245</td>\n",
       "      <td>0.1010</td>\n",
       "      <td>0.15</td>\n",
       "      <td>15</td>\n",
       "    </tr>\n",
       "    <tr>\n",
       "      <th>1</th>\n",
       "      <td>M</td>\n",
       "      <td>0.350</td>\n",
       "      <td>0.265</td>\n",
       "      <td>0.090</td>\n",
       "      <td>...</td>\n",
       "      <td>0.0995</td>\n",
       "      <td>0.0485</td>\n",
       "      <td>0.07</td>\n",
       "      <td>7</td>\n",
       "    </tr>\n",
       "    <tr>\n",
       "      <th>2</th>\n",
       "      <td>F</td>\n",
       "      <td>0.530</td>\n",
       "      <td>0.420</td>\n",
       "      <td>0.135</td>\n",
       "      <td>...</td>\n",
       "      <td>0.2565</td>\n",
       "      <td>0.1415</td>\n",
       "      <td>0.21</td>\n",
       "      <td>9</td>\n",
       "    </tr>\n",
       "  </tbody>\n",
       "</table>\n",
       "<p>3 rows × 9 columns</p>\n",
       "</div>"
      ],
      "text/plain": [
       "  Sex  Length  Diameter  Height  ...  Shucked weight  Viscera weight  \\\n",
       "0   M   0.455     0.365   0.095  ...          0.2245          0.1010   \n",
       "1   M   0.350     0.265   0.090  ...          0.0995          0.0485   \n",
       "2   F   0.530     0.420   0.135  ...          0.2565          0.1415   \n",
       "\n",
       "   Shell weight  Rings  \n",
       "0          0.15     15  \n",
       "1          0.07      7  \n",
       "2          0.21      9  \n",
       "\n",
       "[3 rows x 9 columns]"
      ]
     },
     "execution_count": 12,
     "metadata": {},
     "output_type": "execute_result"
    }
   ],
   "source": [
    "# 1.1 Introduction\n",
    "\n",
    "import pandas as pd\n",
    "abalone = pd.read_csv('abalone.data', header=None)\n",
    "\n",
    "# read data from the internet\n",
    "urlprefix = 'https://vincentarelbundock.github.io/Rdatasets/csv/' \n",
    "dataname  = 'datasets/iris.csv' \n",
    "iris = pd.read_csv(urlprefix + dataname)\n",
    "\n",
    "# drop the Unnamed column and display 3 rows with features\n",
    "# iris.drop('Unnamed: 0',1).head(20)\n",
    "\n",
    "# access the row\n",
    "iris['Sepal.Length']\n",
    "\n",
    "# assign column names\n",
    "abalone.columns = ['Sex', 'Length', 'Diameter', 'Height', 'Whole weight','Shucked weight', 'Viscera weight', 'Shell weight', 'Rings'] \n",
    "abalone.head(3)"
   ]
  },
  {
   "cell_type": "code",
   "execution_count": 13,
   "metadata": {},
   "outputs": [
    {
     "data": {
      "text/html": [
       "<div>\n",
       "<style scoped>\n",
       "    .dataframe tbody tr th:only-of-type {\n",
       "        vertical-align: middle;\n",
       "    }\n",
       "\n",
       "    .dataframe tbody tr th {\n",
       "        vertical-align: top;\n",
       "    }\n",
       "\n",
       "    .dataframe thead th {\n",
       "        text-align: right;\n",
       "    }\n",
       "</style>\n",
       "<table border=\"1\" class=\"dataframe\">\n",
       "  <thead>\n",
       "    <tr style=\"text-align: right;\">\n",
       "      <th></th>\n",
       "      <th>gender</th>\n",
       "      <th>situation</th>\n",
       "      <th>tea</th>\n",
       "      <th>coffee</th>\n",
       "      <th>...</th>\n",
       "      <th>raw_fruit</th>\n",
       "      <th>cooked_fruit_veg</th>\n",
       "      <th>chocol</th>\n",
       "      <th>fat</th>\n",
       "    </tr>\n",
       "  </thead>\n",
       "  <tbody>\n",
       "    <tr>\n",
       "      <th>0</th>\n",
       "      <td>Female</td>\n",
       "      <td>Single</td>\n",
       "      <td>0</td>\n",
       "      <td>0</td>\n",
       "      <td>...</td>\n",
       "      <td>Less than once a week</td>\n",
       "      <td>4-6 times as week</td>\n",
       "      <td>Every day</td>\n",
       "      <td>Mix of vegetable oils</td>\n",
       "    </tr>\n",
       "    <tr>\n",
       "      <th>1</th>\n",
       "      <td>Female</td>\n",
       "      <td>Single</td>\n",
       "      <td>1</td>\n",
       "      <td>1</td>\n",
       "      <td>...</td>\n",
       "      <td>Every day</td>\n",
       "      <td>Every day</td>\n",
       "      <td>Less than once a week</td>\n",
       "      <td>Sunflower oil</td>\n",
       "    </tr>\n",
       "    <tr>\n",
       "      <th>2</th>\n",
       "      <td>Female</td>\n",
       "      <td>Single</td>\n",
       "      <td>0</td>\n",
       "      <td>4</td>\n",
       "      <td>...</td>\n",
       "      <td>Every day</td>\n",
       "      <td>Once a week</td>\n",
       "      <td>Every day</td>\n",
       "      <td>Sunflower oil</td>\n",
       "    </tr>\n",
       "    <tr>\n",
       "      <th>3</th>\n",
       "      <td>Female</td>\n",
       "      <td>Single</td>\n",
       "      <td>0</td>\n",
       "      <td>0</td>\n",
       "      <td>...</td>\n",
       "      <td>4-6 times as week</td>\n",
       "      <td>Never</td>\n",
       "      <td>2-3 times a week</td>\n",
       "      <td>Margarine</td>\n",
       "    </tr>\n",
       "    <tr>\n",
       "      <th>4</th>\n",
       "      <td>Female</td>\n",
       "      <td>Single</td>\n",
       "      <td>2</td>\n",
       "      <td>1</td>\n",
       "      <td>...</td>\n",
       "      <td>Every day</td>\n",
       "      <td>Every day</td>\n",
       "      <td>2-3 times a week</td>\n",
       "      <td>Margarine</td>\n",
       "    </tr>\n",
       "  </tbody>\n",
       "</table>\n",
       "<p>5 rows × 13 columns</p>\n",
       "</div>"
      ],
      "text/plain": [
       "   gender situation  tea  coffee  ...              raw_fruit  \\\n",
       "0  Female    Single    0       0  ...  Less than once a week   \n",
       "1  Female    Single    1       1  ...              Every day   \n",
       "2  Female    Single    0       4  ...              Every day   \n",
       "3  Female    Single    0       0  ...      4-6 times as week   \n",
       "4  Female    Single    2       1  ...              Every day   \n",
       "\n",
       "    cooked_fruit_veg                 chocol                    fat  \n",
       "0  4-6 times as week              Every day  Mix of vegetable oils  \n",
       "1          Every day  Less than once a week          Sunflower oil  \n",
       "2        Once a week              Every day          Sunflower oil  \n",
       "3              Never       2-3 times a week              Margarine  \n",
       "4          Every day       2-3 times a week              Margarine  \n",
       "\n",
       "[5 rows x 13 columns]"
      ]
     },
     "execution_count": 13,
     "metadata": {},
     "output_type": "execute_result"
    }
   ],
   "source": [
    "# 1.2 Structuring features\n",
    "\n",
    "nutri = pd.read_excel('nutrition_elderly.xls')\n",
    "pd.set_option('display.max_columns', 8) #to fit display\n",
    "# nutri.info() #check type(structure) of the variables\n",
    "\n",
    "# 1 - Male\n",
    "# 2 - Female \n",
    "gender_dct = {1:'Male', 2:'Female'}\n",
    "nutri['gender'] = nutri['gender'].replace(gender_dct).astype('category')\n",
    "\n",
    "fat_dct  = {1:'Butter', 2:'Margarine', 3:'Peanut oil',\n",
    "            4:'Sunflower oil', 5:'Olive oil', 6:'Mix of vegetable oils',\n",
    "            7:'Colza oil', 8:'Duck or goose fat'}\n",
    "\n",
    "meat_dct = {0:'Never', 1:'Less than once a week', 2:'Once a week', 3:'2-3 times a week',\n",
    "            4:'4-6 times as week', 5:'Every day'}\n",
    "\n",
    "nutri['fat'] = nutri['fat'].replace(fat_dct).astype('category')\n",
    "\n",
    "# meat is the same for all other qualitive descriptions ['fish', 'raw_fruit', 'cooked_fruit_veg', 'chocol' ]\n",
    "nutri['meat'] = nutri['meat'].replace(meat_dct).astype('category')\n",
    "nutri['fish'] = nutri['fish'].replace(meat_dct).astype('category')\n",
    "nutri['raw_fruit'] = nutri['raw_fruit'].replace(meat_dct).astype('category')\n",
    "nutri['cooked_fruit_veg'] = nutri['cooked_fruit_veg'].replace(meat_dct).astype('category')\n",
    "nutri['chocol'] = nutri['chocol'].replace(meat_dct).astype('category')\n",
    "\n",
    "\n",
    "family_dct = {1:'Single', 2:'Living with a spouse', 3:'Living with a family',\n",
    "            4:'Living with someone else'}\n",
    "nutri['situation'] = nutri['situation'].replace(family_dct).astype('category')\n",
    "nutri['height'] = nutri['height'].astype(float)\n",
    "nutri['weight'] = nutri['weight'].astype(float)\n",
    "nutri.to_csv('nutri.csv', index=False)\n",
    "nutri.head()"
   ]
  },
  {
   "cell_type": "code",
   "execution_count": 14,
   "metadata": {},
   "outputs": [
    {
     "data": {
      "text/plain": [
       "{'Sunflower oil': 68,\n",
       " 'Peanut oil': 48,\n",
       " 'Olive oil': 40,\n",
       " 'Margarine': 27,\n",
       " 'Mix of vegetable oils': 23,\n",
       " 'Butter': 15,\n",
       " 'Duck or goose fat': 4,\n",
       " 'Colza oil': 1}"
      ]
     },
     "execution_count": 14,
     "metadata": {},
     "output_type": "execute_result"
    }
   ],
   "source": [
    "# 1.3 Summary tables\n",
    "\n",
    "nutri = pd.read_csv('nutri.csv')\n",
    "# nutri['fat'].describe() # We see that there are 8 difefrent types of fat used and that sunflower has the highest count, with 68 out of 226 individuals using this type of cooking fat\\\n",
    "d = dict(nutri['fat'].value_counts()) #frequency table\n",
    "d\n",
    "# we can access column labels as attributes\n",
    "# nutri.fat.value_counts()\n",
    "\n",
    "# cross tabulate\n",
    "#pd.crosstab(nutri.gender, nutri.situation, margins=True) #add totals with margin=True"
   ]
  },
  {
   "cell_type": "code",
   "execution_count": 15,
   "metadata": {},
   "outputs": [
    {
     "data": {
      "text/plain": [
       "count    226.000000\n",
       "mean     163.960177\n",
       "std        9.003368\n",
       "min      140.000000\n",
       "25%      157.000000\n",
       "50%      163.000000\n",
       "75%      170.000000\n",
       "max      188.000000\n",
       "Name: height, dtype: float64"
      ]
     },
     "execution_count": 15,
     "metadata": {},
     "output_type": "execute_result"
    }
   ],
   "source": [
    "# 1.4 Summary statistics\n",
    "\n",
    "nutri.height.mean()\n",
    "nutri.height.quantile(q=[0.25, 0.50, 0.75])\n",
    "nutri.height.max() -  nutri.height.min() #range\n",
    "round(nutri.height.var(), 2) #variance how far each number in the set is from the mean (average), and thus from every other number in the set.\n",
    "round(nutri.height.std(), 2) #standard deviation determining each data point's deviation relative to the mean.\n",
    "\n",
    "# when applying decribe() to the quantitive feature, the return is the the following:\n",
    "nutri.height.describe()"
   ]
  },
  {
   "cell_type": "code",
   "execution_count": 16,
   "metadata": {},
   "outputs": [
    {
     "data": {
      "image/png": "[encoded data removed]",
      "text/plain": [
       "<Figure size 640x480 with 1 Axes>"
      ]
     },
     "metadata": {},
     "output_type": "display_data"
    }
   ],
   "source": [
    "# 1.5 Visualizing Data\n",
    "\n",
    "import matplotlib.pyplot as plt \n",
    "import pandas as pd\n",
    "import numpy as np\n",
    "\n",
    "x = [0, 0.8, 1.6]\n",
    "situations_counts = nutri['situation'].value_counts()\n",
    "plt.bar(x, situations_counts, width=0.35, edgecolor='black')\n",
    "plt.xticks(x, situations_counts.index)\n",
    "plt.show()"
   ]
  },
  {
   "cell_type": "code",
   "execution_count": 17,
   "metadata": {},
   "outputs": [
    {
     "data": {
      "image/png": "[encoded data removed]",
      "text/plain": [
       "<Figure size 640x480 with 1 Axes>"
      ]
     },
     "metadata": {},
     "output_type": "display_data"
    },
    {
     "data": {
      "text/plain": [
       "count    226.000000\n",
       "mean      74.477876\n",
       "std        6.005327\n",
       "min       65.000000\n",
       "25%       70.000000\n",
       "50%       74.000000\n",
       "75%       78.000000\n",
       "max       91.000000\n",
       "Name: age, dtype: float64"
      ]
     },
     "execution_count": 17,
     "metadata": {},
     "output_type": "execute_result"
    }
   ],
   "source": [
    "width = 0.5\n",
    "plt.boxplot(nutri.age, widths=width, vert=False)\n",
    "plt.xlabel('age')\n",
    "plt.show()\n",
    "nutri.age.describe() #the box is drawn from the first quartile Q1 to the third quartile Q3 \n",
    "# the dot indicates that the data has an outlier"
   ]
  },
  {
   "cell_type": "code",
   "execution_count": 18,
   "metadata": {},
   "outputs": [
    {
     "data": {
      "image/png": "[encoded data removed]",
      "text/plain": [
       "<Figure size 640x480 with 1 Axes>"
      ]
     },
     "metadata": {},
     "output_type": "display_data"
    }
   ],
   "source": [
    "import numpy as np\n",
    "# 1.5.2 Historgram\n",
    "weights = np.ones_like(nutri.age)/nutri.age.count()\n",
    "plt.hist(nutri.age, bins=2, weights=weights, facecolor='cyan', \n",
    "        edgecolor='black', linewidth=1)\n",
    "plt.xlabel('age')\n",
    "plt.ylabel('Proportion of total')\n",
    "plt.show()\n"
   ]
  },
  {
   "cell_type": "code",
   "execution_count": 19,
   "metadata": {},
   "outputs": [
    {
     "data": {
      "image/png": "[encoded data removed]",
      "text/plain": [
       "<Figure size 640x480 with 1 Axes>"
      ]
     },
     "metadata": {},
     "output_type": "display_data"
    },
    {
     "data": {
      "image/png": "[encoded data removed]",
      "text/plain": [
       "<Figure size 640x480 with 1 Axes>"
      ]
     },
     "metadata": {},
     "output_type": "display_data"
    }
   ],
   "source": [
    "#1.5.2.3 Emeprical distribution function\n",
    "import numpy as np\n",
    "x = np.sort(nutri.age)\n",
    "y = np.linspace(0, 1, len(nutri.age))\n",
    "plt.xlabel('age')\n",
    "plt.ylabel('Fn(x)')\n",
    "plt.step(x,y)\n",
    "plt.xlim(x.min(), x.max())\n",
    "plt.show()\n",
    "\n",
    "\n",
    "x = np.sort(nutri.height)\n",
    "y = np.linspace(0, 1, len(nutri.height))\n",
    "plt.xlabel('weight')\n",
    "plt.ylabel('Fn(weight)')\n",
    "plt.step(x,y)\n",
    "plt.xlim(x.min(), x.max())\n",
    "plt.show()"
   ]
  },
  {
   "cell_type": "code",
   "execution_count": 20,
   "metadata": {},
   "outputs": [
    {
     "data": {
      "image/png": "[encoded data removed]",
      "text/plain": [
       "<Figure size 640x480 with 1 Axes>"
      ]
     },
     "metadata": {},
     "output_type": "display_data"
    }
   ],
   "source": [
    "# 1.5.3.2\n",
    "plt.scatter(nutri.height, nutri.weight, s=12, marker='o')\n",
    "plt.xlabel('height')\n",
    "plt.ylabel('weight')\n",
    "plt.show()"
   ]
  },
  {
   "cell_type": "code",
   "execution_count": 21,
   "metadata": {},
   "outputs": [
    {
     "ename": "TypeError",
     "evalue": "Index does not support mutable operations",
     "output_type": "error",
     "traceback": [
      "\u001b[1;31m---------------------------------------------------------------------------\u001b[0m",
      "\u001b[1;31mTypeError\u001b[0m                                 Traceback (most recent call last)",
      "Cell \u001b[1;32mIn [21], line 14\u001b[0m\n\u001b[0;32m      5\u001b[0m \u001b[39m# 1 Number of features(columns)\u001b[39;00m\n\u001b[0;32m      6\u001b[0m \u001b[39m# len(mushroom.columns) \u001b[39;00m\n\u001b[0;32m      7\u001b[0m \u001b[39m# mushroom.info()\u001b[39;00m\n\u001b[1;32m   (...)\u001b[0m\n\u001b[0;32m     11\u001b[0m \n\u001b[0;32m     12\u001b[0m \u001b[39m# 3 rename the first feature to the 'edibility' and the sixth feature to 'odor'\u001b[39;00m\n\u001b[0;32m     13\u001b[0m newcols \u001b[39m=\u001b[39m mushroom\u001b[39m.\u001b[39mcolumns\n\u001b[1;32m---> 14\u001b[0m newcols[\u001b[39m0\u001b[39;49m] \u001b[39m=\u001b[39m \u001b[39m'\u001b[39m\u001b[39medibility\u001b[39m\u001b[39m'\u001b[39m\n\u001b[0;32m     15\u001b[0m newcols[\u001b[39m5\u001b[39m] \u001b[39m=\u001b[39m \u001b[39m'\u001b[39m\u001b[39modor\u001b[39m\u001b[39m'\u001b[39m\n\u001b[0;32m     16\u001b[0m mushroom\u001b[39m.\u001b[39mcolumns \u001b[39m=\u001b[39m newcols\n",
      "File \u001b[1;32mc:\\Users\\mosek\\AppData\\Local\\Programs\\Python\\Python310\\lib\\site-packages\\pandas\\core\\indexes\\base.py:5340\u001b[0m, in \u001b[0;36mIndex.__setitem__\u001b[1;34m(self, key, value)\u001b[0m\n\u001b[0;32m   5338\u001b[0m \u001b[39m@final\u001b[39m\n\u001b[0;32m   5339\u001b[0m \u001b[39mdef\u001b[39;00m \u001b[39m__setitem__\u001b[39m(\u001b[39mself\u001b[39m, key, value):\n\u001b[1;32m-> 5340\u001b[0m     \u001b[39mraise\u001b[39;00m \u001b[39mTypeError\u001b[39;00m(\u001b[39m\"\u001b[39m\u001b[39mIndex does not support mutable operations\u001b[39m\u001b[39m\"\u001b[39m)\n",
      "\u001b[1;31mTypeError\u001b[0m: Index does not support mutable operations"
     ]
    }
   ],
   "source": [
    "import pandas as pd\n",
    "# Excercises\n",
    "mushroom = pd.read_csv(\"agaricus-lepiota.data\")\n",
    "\n",
    "# 1 Number of features(columns)\n",
    "# len(mushroom.columns) \n",
    "# mushroom.info()\n",
    "\n",
    "# 2 initial names and types of the features\n",
    "#mushroom.columns\n",
    "\n",
    "# 3 rename the first feature to the 'edibility' and the sixth feature to 'odor'\n",
    "newcols = mushroom.columns.to_list() # cast series object to the list and the assign\n",
    "newcols[0] = 'edibility'\n",
    "newcols[5] = 'odor'\n",
    "mushroom.columns = newcols\n",
    "\n",
    "# 4 renaming\n",
    "DICT = {'a': \"almond\", 'c': \"creosote\", 'f': \"foul\", 'l':\"anise\",'m': \"musty\",'n':\"none\", 'p': \"pungent\", 's':\"spicy\", 'y':\"fishy\"} \n",
    "mushroom.odor = mushroom.odor.replace(DICT)\n",
    "\n",
    "edibility_dict = {'e': 'edible', 'p': 'poisonous'}\n",
    "mushroom.edibility = mushroom.edibility.replace(edibility_dict)\n",
    "\n",
    "# 5 cross table\n",
    "pd.crosstab(mushroom.odor, mushroom.edibility)\n",
    "\n",
    "# 6 Reformat the table\n",
    "values = [[1,75,85],[2,30,50],[3,100,100],[4,50,52],[5,60,65]] \n",
    "df = pd.DataFrame(values, columns=['student', 'before', 'after'])\n",
    "df = pd.melt(df, id_vars='student', var_name='Time', value_name='Value', value_vars=['before', 'after']) #math the regex, or you will get key error\n",
    "df\n",
    "\n",
    "# 7 Two bar plots\n",
    "# import seaborn as sns\n",
    "# sns.countplot(x='situation', hue='gender', data=nutri, hue_order=['Male', 'Female'], palette=['SkyBlue', 'Pink'],\n",
    "#               saturation=1, edgecolor='black')\n",
    "# plt.legend(loc='upper center')\n",
    "# plt.xlabel('')\n",
    "# plt.ylabel('counts')"
   ]
  },
  {
   "cell_type": "code",
   "execution_count": null,
   "metadata": {},
   "outputs": [],
   "source": [
    "# -> 2\n",
    "# 5 \n"
   ]
  }
 ],
 "metadata": {
  "kernelspec": {
   "display_name": "Python 3 (ipykernel)",
   "language": "python",
   "name": "python3"
  },
  "language_info": {
   "codemirror_mode": {
    "name": "ipython",
    "version": 3
   },
   "file_extension": ".py",
   "mimetype": "text/x-python",
   "name": "python",
   "nbconvert_exporter": "python",
   "pygments_lexer": "ipython3",
   "version": "3.10.0"
  },
  "vscode": {
   "interpreter": {
    "hash": "6adc4f52979e5d55724dcd193214695423e8758e2b451d4fcd5efefaa2ee14bf"
   }
  }
 },
 "nbformat": 4,
 "nbformat_minor": 2
}
